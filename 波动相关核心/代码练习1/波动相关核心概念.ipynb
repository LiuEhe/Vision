{
 "cells": [
  {
   "cell_type": "markdown",
   "id": "c421b4a9-6c8a-4fc5-b321-878fcaafd56f",
   "metadata": {},
   "source": [
    "##### 代码一：补充完整以下代码，实现以下效果图【注意只用在函数中写内容，不能修改其他部分内容】\n",
    "##### import numpy as np\n",
    "import matplotlib.pyplot as plt\n",
    "import ipywidgets\n",
    "\n",
    "def draw_cos(f1,f2,amp1,amp2):\n",
    "    ####### 把这里函数完整 ##########\n",
    "    # 1. 设置显示时间为1秒，采样率为2000\n",
    "    # 2. 定义两个cos函数，f1, amp1为第一个cos函数的频率和振幅；f2, amp2为第二个cos函数的频率和振幅\n",
    "    # 3. 以一个合适的画板大小 figsize 显示图像\n",
    "    # 4. plot两个图像，横轴为时间，纵轴为对应的函数值\n",
    "    # 5. 用xlim方法设置显示的范围为：频率最低的那个函数的2个周期\n",
    "    \n",
    "\n",
    "f1 = ipywidgets.FloatSlider(min=1, max=100, step=1, value=4, continuous_update=False,description=\"波形1 频率\")\n",
    "f2 = ipywidgets.FloatSlider(min=1, max=200, step=1, value=2, continuous_update=False,description=\"波形2 频率\")\n",
    "amp1 = ipywidgets.FloatSlider(min=0, max=10, step=0.1, value=1, continuous_update=False,description=\"波形1 振幅\")\n",
    "amp2 = ipywidgets.FloatSlider(min=0, max=10, step=0.1, value=1, continuous_update=False,description=\"波形2 振幅\")\n",
    "ipywidgets.interact(draw_cos, f1=f1,f2=f2,amp1=amp1,amp2=amp2)\n",
    "#####"
   ]
  },
  {
   "cell_type": "code",
   "execution_count": 26,
   "id": "cf6ca97d-9489-49c9-849a-8a733864b693",
   "metadata": {},
   "outputs": [
    {
     "data": {
      "application/vnd.jupyter.widget-view+json": {
       "model_id": "d540844747554d669fa09dbe41f65464",
       "version_major": 2,
       "version_minor": 0
      },
      "text/plain": [
       "interactive(children=(FloatSlider(value=4.0, continuous_update=False, description='波形1 频率', min=1.0, step=1.0)…"
      ]
     },
     "metadata": {},
     "output_type": "display_data"
    },
    {
     "data": {
      "text/plain": [
       "<function __main__.draw_cos(f1, f2, amp1, amp2)>"
      ]
     },
     "execution_count": 26,
     "metadata": {},
     "output_type": "execute_result"
    }
   ],
   "source": [
    "import numpy as np\n",
    "import matplotlib.pyplot as plt\n",
    "import ipywidgets\n",
    "\n",
    "def draw_cos(f1,f2,amp1,amp2):\n",
    "    ####### 把这里函数完整 ##########\n",
    "    # 1. 设置显示时间为1秒，采样率为2000\n",
    "    t = np.linspace(0, 1, 2000)\n",
    "    # 2. 定义两个cos函数，f1, amp1为第一个cos函数的频率和振幅；f2, amp2为第二个cos函数的频率和振幅\n",
    "    y1 = amp1 * np.cos(2*f1 * np.pi *t)\n",
    "    y2 = amp2 * np.cos(2*f2 *np.pi * t)\n",
    "    # 3. 以一个合适的画板大小 figsize 显示图像\n",
    "    fg,ax = plt.subplots(1,1,figsize=(16,8))\n",
    "    # 4. plot两个图像，横轴为时间，纵轴为对应的函数值\n",
    "    #plt.plot(t,y2)\n",
    "    ax.plot(t,y1)\n",
    "    ax.plot(t,y2)\n",
    "    #ax[1].plot(t,y2)\n",
    "    # 5. 用xlim方法设置显示的范围为：频率最低的那个函数的2个周期\n",
    "    if f1 < f2:\n",
    "        ax.set_xlim([0,2 / f1 ])\n",
    "    if f1 > f2:\n",
    "        ax.set_xlim([0,2 / f2])\n",
    "    \n",
    "\n",
    "f1 = ipywidgets.FloatSlider(min=1, max=100, step=1, value=4, continuous_update=False,description=\"波形1 频率\")\n",
    "f2 = ipywidgets.FloatSlider(min=1, max=200, step=1, value=2, continuous_update=False,description=\"波形2 频率\")\n",
    "amp1 = ipywidgets.FloatSlider(min=0, max=10, step=0.1, value=1, continuous_update=False,description=\"波形1 振幅\")\n",
    "amp2 = ipywidgets.FloatSlider(min=0, max=10, step=0.1, value=1, continuous_update=False,description=\"波形2 振幅\")\n",
    "ipywidgets.interact(draw_cos, f1=f1,f2=f2,amp1=amp1,amp2=amp2)"
   ]
  },
  {
   "cell_type": "markdown",
   "id": "2ac4849a-9807-4625-885e-08c34455d99d",
   "metadata": {},
   "source": [
    "##### 以下为参考代码"
   ]
  },
  {
   "cell_type": "code",
   "execution_count": 2,
   "id": "76780f33-6d2b-42fc-a3d3-27850d12d145",
   "metadata": {},
   "outputs": [
    {
     "data": {
      "application/vnd.jupyter.widget-view+json": {
       "model_id": "2efedfbbfad64ca081d09050f603d12e",
       "version_major": 2,
       "version_minor": 0
      },
      "text/plain": [
       "interactive(children=(FloatSlider(value=1.0, description='Frequency:', max=10.0), Output()), _dom_classes=('wi…"
      ]
     },
     "metadata": {},
     "output_type": "display_data"
    },
    {
     "data": {
      "text/plain": [
       "<function __main__.plot_sin(freq)>"
      ]
     },
     "execution_count": 2,
     "metadata": {},
     "output_type": "execute_result"
    }
   ],
   "source": [
    "import numpy as np\n",
    "import matplotlib.pyplot as plt\n",
    "import ipywidgets\n",
    "\n",
    "def plot_sin(freq):\n",
    "    t = np.linspace(0, 1, 1000)  # 时间轴上取 1000 个点\n",
    "    y = np.sin(2 * np.pi * freq * t)  # 计算正弦函数的取值\n",
    "    plt.plot(t, y)  # 绘制图像\n",
    "    plt.show()\n",
    "\n",
    "# 创建一个名为 freq 的滑动条，取值范围为 0 到 10，初始值为 1，步长为 0.1\n",
    "freq_slider = ipywidgets.FloatSlider(value=1, min=0, max=10, step=0.1, description='Frequency:')\n",
    "ipywidgets.interact(plot_sin, freq=freq_slider)"
   ]
  },
  {
   "cell_type": "code",
   "execution_count": null,
   "id": "39c06a81-06eb-44d1-bdc6-0ec446a6864f",
   "metadata": {},
   "outputs": [],
   "source": []
  },
  {
   "cell_type": "code",
   "execution_count": null,
   "id": "a4b8dfe3-7fe5-4b2e-889c-2cb79e834d6e",
   "metadata": {},
   "outputs": [],
   "source": []
  }
 ],
 "metadata": {
  "kernelspec": {
   "display_name": "Python 3 (ipykernel)",
   "language": "python",
   "name": "python3"
  },
  "language_info": {
   "codemirror_mode": {
    "name": "ipython",
    "version": 3
   },
   "file_extension": ".py",
   "mimetype": "text/x-python",
   "name": "python",
   "nbconvert_exporter": "python",
   "pygments_lexer": "ipython3",
   "version": "3.9.7"
  }
 },
 "nbformat": 4,
 "nbformat_minor": 5
}
