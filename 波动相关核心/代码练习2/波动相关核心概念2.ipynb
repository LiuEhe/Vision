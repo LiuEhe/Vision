{
 "cells": [
  {
   "cell_type": "markdown",
   "id": "6b300112-985e-4383-aa14-669b4c5edc4a",
   "metadata": {},
   "source": [
    "##### 代码二：修改课程代码，添加两个函数【注意只用在函数中写内容，不能修改其他部分内容】实现以上要求\n",
    "import numpy as np\n",
    "import matplotlib.pyplot as plt\n",
    "\n",
    "def denoise(arr, thresh):\n",
    "    # 1. 实现返回一个新的numpy数组arr,使得arr中所有小于等于thresh的值都归零，大于thresh的值保持不变\n",
    "    \n",
    "def discard(arr, thresh):\n",
    "    # 2. 实现返回一个新的numpy数组arr,使得arr中所有thresh位置极其之后的值都归零\n",
    "\n",
    "srate=200\n",
    "fd=np.random.rand(srate) #产生一个列表，其中更包含200个0到1的随机数,模拟200个噪音信号\n",
    "\n",
    "fd[13]=6  # 模拟在13hz有一个振幅为6的信号\n",
    "fd[100]=9 # 模拟在100hz有一个振幅为9的信号\n",
    "fd[188]=3 # 模拟在188hz有一个振幅为3的信号\n",
    "\n",
    "\n",
    "fd=denoise(fd,1)\n",
    "fd=discard(fd,50)\n",
    "\n",
    "plt.figure(figsize=(20,4))\n",
    "plt.stem(fd)\n",
    "plt.show()"
   ]
  },
  {
   "cell_type": "code",
   "execution_count": 17,
   "id": "b380d89d-f68a-462d-93b8-8f05543ae595",
   "metadata": {},
   "outputs": [
    {
     "data": {
      "image/png": "[encoded data removed]",
      "text/plain": [
       "<Figure size 1440x288 with 1 Axes>"
      ]
     },
     "metadata": {
      "needs_background": "light"
     },
     "output_type": "display_data"
    }
   ],
   "source": [
    "import numpy as np\n",
    "import matplotlib.pyplot as plt\n",
    "\n",
    "def denoise(arr, thresh):\n",
    "    # 1. 实现返回一个新的numpy数组arr,使得arr中所有小于等于thresh的值都归零，大于thresh的值保持不变\n",
    "    mask = arr > thresh\n",
    "    mask = mask + 0       #将 T,F 转化为 0,1\n",
    "    return mask           #函数返回mask\n",
    "    \n",
    "def discard(arr, thresh):\n",
    "    # 2. 实现返回一个新的numpy数组arr,使得arr中所有thresh位置极其之后的值都归零\n",
    "    mask1 = arr[:thresh]         #保留arr中thresh位置之前的值\n",
    "    mask2 = arr[thresh:] * 0     #使得arr中所有thresh位置极其之后的值都归零\n",
    "    arr = np.concatenate((mask1,mask2),axis=0)\n",
    "    return arr\n",
    "    \n",
    "srate=200\n",
    "fd=np.random.rand(srate) #产生一个列表，其中更包含200个0到1的随机数,模拟200个噪音信号\n",
    "\n",
    "fd[13]=6  # 模拟在13hz有一个振幅为6的信号\n",
    "fd[100]=9 # 模拟在100hz有一个振幅为9的信号\n",
    "fd[188]=3 # 模拟在188hz有一个振幅为3的信号\n",
    "\n",
    "\n",
    "fd=denoise(fd,1)\n",
    "fd=discard(fd,50)\n",
    "\n",
    "plt.figure(figsize=(20,4))\n",
    "plt.stem(fd)\n",
    "plt.show()"
   ]
  },
  {
   "cell_type": "code",
   "execution_count": null,
   "id": "31191a3b-dc10-4e92-9686-040685afc0f9",
   "metadata": {},
   "outputs": [],
   "source": []
  }
 ],
 "metadata": {
  "kernelspec": {
   "display_name": "Python 3 (ipykernel)",
   "language": "python",
   "name": "python3"
  },
  "language_info": {
   "codemirror_mode": {
    "name": "ipython",
    "version": 3
   },
   "file_extension": ".py",
   "mimetype": "text/x-python",
   "name": "python",
   "nbconvert_exporter": "python",
   "pygments_lexer": "ipython3",
   "version": "3.9.7"
  }
 },
 "nbformat": 4,
 "nbformat_minor": 5
}
