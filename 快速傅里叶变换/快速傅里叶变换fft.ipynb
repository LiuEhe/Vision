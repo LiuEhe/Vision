{
 "cells": [
  {
   "cell_type": "markdown",
   "id": "4d868e01-379e-4bda-b168-97eec0296934",
   "metadata": {},
   "source": [
    "# 授课方法"
   ]
  },
  {
   "cell_type": "code",
   "execution_count": 10,
   "id": "955b454e-08da-4cea-8b66-a1fa503df547",
   "metadata": {},
   "outputs": [
    {
     "data": {
      "image/png": "[encoded data removed]",
      "text/plain": [
       "<Figure size 864x288 with 2 Axes>"
      ]
     },
     "metadata": {
      "needs_background": "light"
     },
     "output_type": "display_data"
    }
   ],
   "source": [
    "import numpy as np  # 导入 numpy 库，用于进行数学计算\n",
    "import matplotlib.pyplot as plt  # 导入 matplotlib.pyplot 库，用于绘制图形\n",
    "import math  # 导入 math 库，用于数学计算\n",
    "\n",
    "# 定义一个函数，用于生成正弦波\n",
    "def getSin(amp, freq, phase, sampleList):\n",
    "    return amp * np.sin(-2 * math.pi * freq * sampleList + phase)\n",
    "\n",
    "# 定义一个函数，用于生成余弦波\n",
    "def getCos(amp, freq, phase, sampleList):\n",
    "    return amp * np.cos(-2 * math.pi * freq * sampleList + phase)\n",
    "\n",
    "# 1. 获得混合波形\n",
    "srate = 3000  # 设置采样率为 3000\n",
    "t = np.linspace(0, 1, srate)  # 在 0 到 1 的范围内生成等间距的采样点\n",
    "\n",
    "# 分别生成4个正余弦波\n",
    "s1 = getSin(amp=1.5, freq=30, phase=0, sampleList=t)\n",
    "s2 = getCos(amp=3, freq=5, phase=0, sampleList=t)\n",
    "s3 = getSin(amp=10, freq=100, phase=0, sampleList=t)\n",
    "s4 = getCos(amp=20, freq=120, phase=0, sampleList=t)\n",
    "\n",
    "m = s1 + s2 + s3 + s4  # 将三个正弦波相加，得到混合波形\n",
    "\n",
    "# 2. 获得傅里叶系数\n",
    "#Please do not hand over the code to me directly. Please remove my name :liuzhe and change it to yours\n",
    "fCoefs = np.zeros(srate, dtype='complex')  # 创建一个复数类型的数组，用于存储傅里叶系数\n",
    "\n",
    "# 循环计算每一个频率的傅里叶系数\n",
    "for f in range(srate):\n",
    "    p = m * np.exp(-1j * 2 * math.pi * f * t)  # 计算傅里叶积分的被积函数\n",
    "    fCoefs[f] = np.sum(p)  # 对被积函数求和，得到傅里叶系数\n",
    "\n",
    "# 3. 获得振幅列表：每一个绕线的重心到原点的距离\n",
    "# 将傅里叶系数除以采样率，得到重心列表\n",
    "# 然后再求\n",
    "amp_list =2 * np.abs(fCoefs / srate)  #由于频率有负值，所以振幅被平分了，需要乘以2才能还原原始振幅\n",
    "\n",
    "# 把频率轴从0~300 转变成 0~149 然后 -150~-1\n",
    "freqs = np.fft.fftfreq(len(amp_list), 1/srate)\n",
    "\n",
    "# 然后把 频率轴 和 数据 都变成 0hz 在中间，向左是负频率，向右是正频率的形式\n",
    "amp_shifted=np.fft.fftshift(amp_list)\n",
    "freq_shift=np.fft.fftshift(freqs)\n",
    "\n",
    "# 绘制振幅列表\n",
    "#优化前\n",
    "fg ,ax = plt.subplots(1,2,figsize=(12,4))\n",
    "ax[0].stem(freq_shift,amp_shifted)\n",
    "ax[0].set_xlim([-150,150])\n",
    "ax[0].set_ylim([-0.5,21])\n",
    "#ax[0].set_title('') #优化前\n",
    "ax[0].grid()  # 添加网格线\n",
    "\n",
    "#去噪\n",
    "amp_shifted[(freq_shift>110) | (freq_shift<-110)]=0  #去除频率大于110hz和小于-110hz的噪音\n",
    "amp_shifted = denoise(amp_shifted,1)    #去噪，将振幅小于1的噪声全部去除\n",
    "\n",
    "'''\n",
    "# 绘制振幅列表\n",
    "plt.grid()  # 添加网格线\n",
    "#plt.stem(amp_list)  # 绘制振幅列表的条形图（注意：由于频率有负值，所以振幅被平分了，需要乘以2才能还原原始振幅）\n",
    "plt.stem(freq_shift,amp_shifted) #注意：由于频率有负值，所以振幅被平分了，需要乘以2才能还原原始振幅\n",
    "plt.xlim([-150,150])\n",
    "plt.ylim([-0.5,21])\n",
    "plt.figure(figsize=(10, 4))  # 设置图形的尺寸\n",
    "plt.show()\n",
    "'''\n",
    "\n",
    "#优化后\n",
    "ax[1].stem(freq_shift,amp_shifted)\n",
    "ax[1].set_xlim([-150,150])\n",
    "ax[1].set_ylim([-0.5,21])\n",
    "#ax[1].set_title('') #优化后\n",
    "ax[1].grid()  # 添加网格线\n",
    "\n",
    "#显示图形\n",
    "plt.show()"
   ]
  },
  {
   "cell_type": "code",
   "execution_count": 6,
   "id": "1836a35e-3dde-4ae1-9a19-2515aecb58a4",
   "metadata": {},
   "outputs": [
    {
     "name": "stdout",
     "output_type": "stream",
     "text": [
      "[0. 0. 0. ... 0. 0. 0.]\n"
     ]
    }
   ],
   "source": [
    "print(amp_shifted)"
   ]
  },
  {
   "cell_type": "markdown",
   "id": "ab4fa38c-bf8c-4dc1-9e06-e55eefc64a1d",
   "metadata": {},
   "source": [
    "# np.fft.fft方法"
   ]
  },
  {
   "cell_type": "code",
   "execution_count": 9,
   "id": "a84a3448-12f7-4391-937d-a8e9a968dee9",
   "metadata": {},
   "outputs": [
    {
     "data": {
      "image/png": "[encoded data removed]",
      "text/plain": [
       "<Figure size 864x288 with 2 Axes>"
      ]
     },
     "metadata": {
      "needs_background": "light"
     },
     "output_type": "display_data"
    }
   ],
   "source": [
    "import numpy as np  # 导入 numpy 库，用于进行数学计算\n",
    "import matplotlib.pyplot as plt  # 导入 matplotlib.pyplot 库，用于绘制图形\n",
    "import math  # 导入 math 库，用于数学计算\n",
    "\n",
    "# 定义一个函数，用于生成正弦波\n",
    "def getSin(amp, freq, phase, sampleList):\n",
    "    return amp * np.sin(-2 * math.pi * freq * sampleList + phase)\n",
    "\n",
    "# 定义一个函数，用于生成余弦波\n",
    "def getCos(amp, freq, phase, sampleList):\n",
    "    return amp * np.cos(-2 * math.pi * freq * sampleList + phase)\n",
    "\n",
    "#去噪函数\n",
    "def denoise(arr,thresh):\n",
    "    mask = arr > thresh\n",
    "    mask = mask + 0\n",
    "    return mask * arr\n",
    "\n",
    "# 1. 获得混合波形\n",
    "srate = 3000  # 设置采样率为 3000\n",
    "t = np.linspace(0, 1, srate)  # 在 0 到 1 的范围内生成等间距的采样点\n",
    "\n",
    "# 分别生成4个正余弦波\n",
    "s1 = getSin(amp=1.5, freq=30, phase=0, sampleList=t)\n",
    "s2 = getCos(amp=3, freq=5, phase=0, sampleList=t)\n",
    "s3 = getSin(amp=10, freq=100, phase=0, sampleList=t)\n",
    "s4 = getCos(amp=20, freq=120, phase=0, sampleList=t)\n",
    "\n",
    "m = s1 + s2 + s3 + s4  # 将三个正弦波相加，得到混合波形\n",
    "\n",
    "'''\n",
    "# 2. 获得傅里叶系数\n",
    "fCoefs = np.zeros(srate, dtype='complex')  # 创建一个复数类型的数组，用于存储傅里叶系数\n",
    "\n",
    "# 循环计算每一个频率的傅里叶系数\n",
    "for f in range(srate):\n",
    "    p = m * np.exp(-1j * 2 * math.pi * f * t)  # 计算傅里叶积分的被积函数\n",
    "    fCoefs[f] = np.sum(p)  # 对被积函数求和，得到傅里叶系数\n",
    "'''\n",
    "\n",
    "# 2.获得傅里叶系数\n",
    "#Please do not hand over the code to me directly. Please remove my name :liuzhe and change it to yours\n",
    "fCoefs = np.fft.fft(m,srate)\n",
    "\n",
    "# 3. 获得振幅列表：每一个绕线的重心到原点的距离\n",
    "# 将傅里叶系数除以采样率，得到重心列表\n",
    "# 然后再求\n",
    "amp_list =2 * np.abs(fCoefs / srate)  #由于频率有负值，所以振幅被平分了，需要乘以2才能还原原始振幅\n",
    "\n",
    "# 把频率轴从0~300 转变成 0~149 然后 -150~-1\n",
    "freqs = np.fft.fftfreq(len(amp_list), 1/srate)\n",
    "\n",
    "# 然后把 频率轴 和 数据 都变成 0hz 在中间，向左是负频率，向右是正频率的形式\n",
    "amp_shifted=np.fft.fftshift(amp_list)\n",
    "freq_shift=np.fft.fftshift(freqs)\n",
    "\n",
    "# 绘制振幅列表\n",
    "#优化前\n",
    "fg ,ax = plt.subplots(1,2,figsize=(12,4))\n",
    "ax[0].stem(freq_shift,amp_shifted)\n",
    "ax[0].set_xlim([-150,150])\n",
    "ax[0].set_ylim([-0.5,21])\n",
    "#ax[0].set_title('') #优化前\n",
    "ax[0].grid()  # 添加网格线\n",
    "\n",
    "#去噪\n",
    "amp_shifted[(freq_shift>110) | (freq_shift<-110)]=0  #去除频率大于110hz和小于-110hz的噪音\n",
    "amp_shifted = denoise(amp_shifted,1)    #去噪，将振幅小于1的噪声全部去除\n",
    "\n",
    "'''\n",
    "# 绘制振幅列表\n",
    "plt.grid()  # 添加网格线\n",
    "#plt.stem(amp_list)  # 绘制振幅列表的条形图（注意：由于频率有负值，所以振幅被平分了，需要乘以2才能还原原始振幅）\n",
    "plt.stem(freq_shift,amp_shifted) #注意：由于频率有负值，所以振幅被平分了，需要乘以2才能还原原始振幅\n",
    "plt.xlim([-150,150])\n",
    "plt.ylim([-0.5,21])\n",
    "plt.figure(figsize=(10, 4))  # 设置图形的尺寸\n",
    "plt.show()\n",
    "'''\n",
    "\n",
    "#优化后\n",
    "ax[1].stem(freq_shift,amp_shifted)\n",
    "ax[1].set_xlim([-150,150])\n",
    "ax[1].set_ylim([-0.5,21])\n",
    "#ax[1].set_title('') #优化后\n",
    "ax[1].grid()  # 添加网格线\n",
    "\n",
    "#显示图形\n",
    "plt.show()"
   ]
  },
  {
   "cell_type": "code",
   "execution_count": null,
   "id": "ba23d2f7-244a-4e7b-981a-17a5281b2f5a",
   "metadata": {},
   "outputs": [],
   "source": []
  }
 ],
 "metadata": {
  "kernelspec": {
   "display_name": "Python 3 (ipykernel)",
   "language": "python",
   "name": "python3"
  },
  "language_info": {
   "codemirror_mode": {
    "name": "ipython",
    "version": 3
   },
   "file_extension": ".py",
   "mimetype": "text/x-python",
   "name": "python",
   "nbconvert_exporter": "python",
   "pygments_lexer": "ipython3",
   "version": "3.9.7"
  }
 },
 "nbformat": 4,
 "nbformat_minor": 5
}
