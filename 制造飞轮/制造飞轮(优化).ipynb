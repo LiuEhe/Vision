{
 "cells": [
  {
   "cell_type": "code",
   "execution_count": 3,
   "id": "86970e60-6f10-44b9-9ed7-9d53fc2ef1e1",
   "metadata": {},
   "outputs": [
    {
     "data": {
      "application/vnd.jupyter.widget-view+json": {
       "model_id": "2c9a01d4d25e4fed871f77236a449f9f",
       "version_major": 2,
       "version_minor": 0
      },
      "text/plain": [
       "interactive(children=(FloatSlider(value=0.5, continuous_update=False, description='频率（Hz）', max=2.0, min=0.1, …"
      ]
     },
     "metadata": {},
     "output_type": "display_data"
    },
    {
     "data": {
      "text/plain": [
       "<function __main__.draw_circle(f, t)>"
      ]
     },
     "execution_count": 3,
     "metadata": {},
     "output_type": "execute_result"
    }
   ],
   "source": [
    "import numpy as np\n",
    "import matplotlib.pyplot as plt\n",
    "import ipywidgets\n",
    "import math\n",
    "\n",
    "# 定义绘制圆形轨迹的函数\n",
    "def draw_circle(f, t):\n",
    "    srate = 10000  # 设置采样率\n",
    "    t = np.linspace(0, t, srate)  # 根据采样率在时间范围内生成等间隔的点\n",
    "    \n",
    "    # 获取滚动条的当前值\n",
    "    current_value = t[-1]\n",
    "    \n",
    "    # 根据频率 f 和时间 t，计算复平面上的圆形轨迹点\n",
    "    p = np.exp(-1j * 2 * math.pi * f * t)\n",
    "    \n",
    "    # 根据频率 f 和时间 t，计算复平面上的轨迹点\n",
    "    p_2 = np.exp(-1j * 2 * math.pi * f * current_value)\n",
    "    \n",
    "    # 绘制圆形轨迹点，横坐标为实数部分，纵坐标为虚数部分\n",
    "    #If you want to refer to my code,please change LiuZhe to your name and make a few other changes\n",
    "    #plt.plot(np.real(p), np.imag(p), color='blue', marker='.', markerfacecolor='red', markeredgewidth=0.6, markersize=100, linewidth=0.2)\n",
    "    plt.plot(np.real(p), np.imag(p) ,linewidth=1)   #调整线宽为linewidth=1\n",
    "    plt.plot(np.real(p_2), np.imag(p_2) ,'ro')\n",
    "    \n",
    "    plt.axis('square')  # 设置坐标轴比例相等\n",
    "    plt.axis([-2, 2, -2, 2])\n",
    "    plt.grid()  # 显示网格线\n",
    "    plt.show()  # 显示图像\n",
    "\n",
    "    \n",
    "'''\n",
    "# 定义引领点函数\n",
    "def draw_point(f,t):\n",
    "    srate = 10000  # 设置采样率\n",
    "    t = np.linspace(0, t, srate)  # 根据采样率在时间范围内生成等间隔的点\n",
    "    # 获取滚动条的当前值\n",
    "    current_value = t[-1]\n",
    "    \n",
    "    # 根据频率 f 和时间 t，计算复平面上的圆形轨迹点\n",
    "    p = np.exp(-1j * 2 * math.pi * f * current_value)\n",
    "    plt.plot(np.real(p), np.imag(p) ,'ro')\n",
    "    plt.axis('square')  # 设置坐标轴比例相等\n",
    "    plt.axis([-2, 2, -2, 2])\n",
    "    plt.grid()  # 显示网格线\n",
    "    plt.show()  # 显示图像\n",
    "\n",
    "'''\n",
    "# 创建一个滑动条，用于调节画圆的频率，范围从 0.1 Hz 到 2 Hz，步长为 0.01 Hz\n",
    "f = ipywidgets.FloatSlider(\n",
    "    min=0.1, max=2, step=0.01, value=0.5, \n",
    "    description='频率（Hz）',\n",
    "    continuous_update=False)\n",
    "\n",
    "# 创建一个滑动条，用于调节画圆的总时间，范围从 0 秒到 10 秒，步长为 0.1 秒\n",
    "t = ipywidgets.FloatSlider(\n",
    "    min=0, max=10, step=0.1, value=0, \n",
    "    description='时间（秒）',\n",
    "    continuous_update=False)\n",
    "\n",
    "# 使用 ipywidgets 的交互功能，将滑动条与绘制圆形轨迹的函数关联\n",
    "ipywidgets.interact(draw_circle, t=t, f=f)\n",
    "#ipywidgets.interact(draw_point, t=t, f=f)\n",
    "\n"
   ]
  },
  {
   "cell_type": "code",
   "execution_count": null,
   "id": "523fe0ba-34c8-477c-a95d-0ceb6c4496c5",
   "metadata": {},
   "outputs": [],
   "source": []
  }
 ],
 "metadata": {
  "kernelspec": {
   "display_name": "Python 3 (ipykernel)",
   "language": "python",
   "name": "python3"
  },
  "language_info": {
   "codemirror_mode": {
    "name": "ipython",
    "version": 3
   },
   "file_extension": ".py",
   "mimetype": "text/x-python",
   "name": "python",
   "nbconvert_exporter": "python",
   "pygments_lexer": "ipython3",
   "version": "3.9.7"
  }
 },
 "nbformat": 4,
 "nbformat_minor": 5
}
